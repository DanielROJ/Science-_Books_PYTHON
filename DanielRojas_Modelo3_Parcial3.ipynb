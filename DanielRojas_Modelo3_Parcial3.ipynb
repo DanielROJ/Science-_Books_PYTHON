{
 "cells": [
  {
   "cell_type": "code",
   "execution_count": 1,
   "metadata": {},
   "outputs": [],
   "source": [
    "## Nombre : German Daniel Rojas\n",
    "## \n",
    "## Universidad Sergio Arboleda\n",
    "## Programacion Cientifica "
   ]
  },
  {
   "cell_type": "code",
   "execution_count": null,
   "metadata": {},
   "outputs": [],
   "source": [
    "## Se Cargan la bibliotecas correspondientes "
   ]
  },
  {
   "cell_type": "code",
   "execution_count": 84,
   "metadata": {},
   "outputs": [],
   "source": [
    "import pandas as pd \n",
    "import seaborn as sns\n",
    "from datetime import datetime\n",
    "import numpy as np \n",
    "from sklearn.linear_model import LinearRegression\n",
    "import matplotlib.pyplot as plt\n",
    "import scipy.stats as stats\n",
    "import copy\n",
    "\n",
    "from sklearn.model_selection import train_test_split\n",
    "from sklearn.linear_model import LinearRegression\n",
    "from sklearn.metrics import mean_absolute_error, mean_squared_error, r2_score\n",
    "\n",
    "\n"
   ]
  },
  {
   "cell_type": "code",
   "execution_count": 4,
   "metadata": {},
   "outputs": [],
   "source": [
    "## Exploracio y preparacion del conjunto de datos"
   ]
  },
  {
   "cell_type": "code",
   "execution_count": 65,
   "metadata": {},
   "outputs": [
    {
     "data": {
      "text/html": [
       "<div>\n",
       "<style scoped>\n",
       "    .dataframe tbody tr th:only-of-type {\n",
       "        vertical-align: middle;\n",
       "    }\n",
       "\n",
       "    .dataframe tbody tr th {\n",
       "        vertical-align: top;\n",
       "    }\n",
       "\n",
       "    .dataframe thead th {\n",
       "        text-align: right;\n",
       "    }\n",
       "</style>\n",
       "<table border=\"1\" class=\"dataframe\">\n",
       "  <thead>\n",
       "    <tr style=\"text-align: right;\">\n",
       "      <th></th>\n",
       "      <th>EXAM1</th>\n",
       "      <th>EXAM2</th>\n",
       "      <th>EXAM3</th>\n",
       "      <th>FINAL</th>\n",
       "    </tr>\n",
       "  </thead>\n",
       "  <tbody>\n",
       "    <tr>\n",
       "      <th>0</th>\n",
       "      <td>73</td>\n",
       "      <td>80</td>\n",
       "      <td>75</td>\n",
       "      <td>152</td>\n",
       "    </tr>\n",
       "    <tr>\n",
       "      <th>1</th>\n",
       "      <td>93</td>\n",
       "      <td>88</td>\n",
       "      <td>93</td>\n",
       "      <td>185</td>\n",
       "    </tr>\n",
       "    <tr>\n",
       "      <th>2</th>\n",
       "      <td>89</td>\n",
       "      <td>91</td>\n",
       "      <td>90</td>\n",
       "      <td>180</td>\n",
       "    </tr>\n",
       "    <tr>\n",
       "      <th>3</th>\n",
       "      <td>96</td>\n",
       "      <td>98</td>\n",
       "      <td>100</td>\n",
       "      <td>196</td>\n",
       "    </tr>\n",
       "    <tr>\n",
       "      <th>4</th>\n",
       "      <td>73</td>\n",
       "      <td>66</td>\n",
       "      <td>70</td>\n",
       "      <td>142</td>\n",
       "    </tr>\n",
       "  </tbody>\n",
       "</table>\n",
       "</div>"
      ],
      "text/plain": [
       "  EXAM1 EXAM2 EXAM3  FINAL\n",
       "0    73    80    75    152\n",
       "1    93    88    93    185\n",
       "2    89    91    90    180\n",
       "3    96    98   100    196\n",
       "4    73    66    70    142"
      ]
     },
     "execution_count": 65,
     "metadata": {},
     "output_type": "execute_result"
    }
   ],
   "source": [
    "df = pd.read_csv('data03.csv', sep=';')\n",
    "df.head()            ## Lectura del dataset correspondiente "
   ]
  },
  {
   "cell_type": "code",
   "execution_count": 66,
   "metadata": {},
   "outputs": [
    {
     "data": {
      "text/html": [
       "<div>\n",
       "<style scoped>\n",
       "    .dataframe tbody tr th:only-of-type {\n",
       "        vertical-align: middle;\n",
       "    }\n",
       "\n",
       "    .dataframe tbody tr th {\n",
       "        vertical-align: top;\n",
       "    }\n",
       "\n",
       "    .dataframe thead th {\n",
       "        text-align: right;\n",
       "    }\n",
       "</style>\n",
       "<table border=\"1\" class=\"dataframe\">\n",
       "  <thead>\n",
       "    <tr style=\"text-align: right;\">\n",
       "      <th></th>\n",
       "      <th>EXAM1</th>\n",
       "      <th>EXAM2</th>\n",
       "      <th>EXAM3</th>\n",
       "      <th>FINAL</th>\n",
       "    </tr>\n",
       "  </thead>\n",
       "  <tbody>\n",
       "    <tr>\n",
       "      <th>98</th>\n",
       "      <td>74</td>\n",
       "      <td>83</td>\n",
       "      <td>89</td>\n",
       "      <td>161</td>\n",
       "    </tr>\n",
       "    <tr>\n",
       "      <th>99</th>\n",
       "      <td>99</td>\n",
       "      <td>75</td>\n",
       "      <td>79</td>\n",
       "      <td>159</td>\n",
       "    </tr>\n",
       "    <tr>\n",
       "      <th>100</th>\n",
       "      <td>95</td>\n",
       "      <td>75</td>\n",
       "      <td>75</td>\n",
       "      <td>157</td>\n",
       "    </tr>\n",
       "    <tr>\n",
       "      <th>101</th>\n",
       "      <td>72</td>\n",
       "      <td>95</td>\n",
       "      <td>74</td>\n",
       "      <td>158</td>\n",
       "    </tr>\n",
       "    <tr>\n",
       "      <th>102</th>\n",
       "      <td>84</td>\n",
       "      <td>80</td>\n",
       "      <td>82</td>\n",
       "      <td>204</td>\n",
       "    </tr>\n",
       "  </tbody>\n",
       "</table>\n",
       "</div>"
      ],
      "text/plain": [
       "    EXAM1 EXAM2 EXAM3  FINAL\n",
       "98     74    83    89    161\n",
       "99     99    75    79    159\n",
       "100    95    75    75    157\n",
       "101    72    95    74    158\n",
       "102    84    80    82    204"
      ]
     },
     "execution_count": 66,
     "metadata": {},
     "output_type": "execute_result"
    }
   ],
   "source": [
    "df.tail()"
   ]
  },
  {
   "cell_type": "code",
   "execution_count": 67,
   "metadata": {},
   "outputs": [
    {
     "data": {
      "text/plain": [
       "(103, 4)"
      ]
     },
     "execution_count": 67,
     "metadata": {},
     "output_type": "execute_result"
    }
   ],
   "source": [
    "## Tamaño Filas  y columnas (features)\n",
    "df.shape"
   ]
  },
  {
   "cell_type": "code",
   "execution_count": 68,
   "metadata": {},
   "outputs": [
    {
     "name": "stdout",
     "output_type": "stream",
     "text": [
      "<class 'pandas.core.frame.DataFrame'>\n",
      "RangeIndex: 103 entries, 0 to 102\n",
      "Data columns (total 4 columns):\n",
      " #   Column  Non-Null Count  Dtype \n",
      "---  ------  --------------  ----- \n",
      " 0   EXAM1   103 non-null    object\n",
      " 1   EXAM2   103 non-null    object\n",
      " 2   EXAM3   103 non-null    object\n",
      " 3   FINAL   103 non-null    int64 \n",
      "dtypes: int64(1), object(3)\n",
      "memory usage: 3.3+ KB\n",
      "None\n"
     ]
    }
   ],
   "source": [
    "print(df.info())  ## Visualizacion inicial de los datos en el datset "
   ]
  },
  {
   "cell_type": "code",
   "execution_count": 69,
   "metadata": {},
   "outputs": [],
   "source": [
    "\n",
    "df = df.applymap(lambda x: np.nan if x == ' ' else x) ##Remplazo los valores vacios por NAN, para su posteriror elminiacion"
   ]
  },
  {
   "cell_type": "code",
   "execution_count": 71,
   "metadata": {},
   "outputs": [
    {
     "data": {
      "text/plain": [
       "EXAM1     74\n",
       "EXAM2     80\n",
       "EXAM3    NaN\n",
       "FINAL    190\n",
       "Name: 96, dtype: object"
      ]
     },
     "execution_count": 71,
     "metadata": {},
     "output_type": "execute_result"
    }
   ],
   "source": [
    "df.iloc[96] ## Ejemplo de un registro defectuoso en el dataset "
   ]
  },
  {
   "cell_type": "code",
   "execution_count": 72,
   "metadata": {},
   "outputs": [],
   "source": [
    "df = df.dropna() ## Elimino  los registros posean en sus features, datos NAN"
   ]
  },
  {
   "cell_type": "code",
   "execution_count": 74,
   "metadata": {},
   "outputs": [
    {
     "data": {
      "text/html": [
       "<div>\n",
       "<style scoped>\n",
       "    .dataframe tbody tr th:only-of-type {\n",
       "        vertical-align: middle;\n",
       "    }\n",
       "\n",
       "    .dataframe tbody tr th {\n",
       "        vertical-align: top;\n",
       "    }\n",
       "\n",
       "    .dataframe thead th {\n",
       "        text-align: right;\n",
       "    }\n",
       "</style>\n",
       "<table border=\"1\" class=\"dataframe\">\n",
       "  <thead>\n",
       "    <tr style=\"text-align: right;\">\n",
       "      <th></th>\n",
       "      <th>EXAM1</th>\n",
       "      <th>EXAM2</th>\n",
       "      <th>EXAM3</th>\n",
       "      <th>FINAL</th>\n",
       "    </tr>\n",
       "  </thead>\n",
       "  <tbody>\n",
       "    <tr>\n",
       "      <th>92</th>\n",
       "      <td>87</td>\n",
       "      <td>72</td>\n",
       "      <td>71</td>\n",
       "      <td>139</td>\n",
       "    </tr>\n",
       "    <tr>\n",
       "      <th>93</th>\n",
       "      <td>61</td>\n",
       "      <td>57</td>\n",
       "      <td>80</td>\n",
       "      <td>225</td>\n",
       "    </tr>\n",
       "    <tr>\n",
       "      <th>94</th>\n",
       "      <td>81</td>\n",
       "      <td>75</td>\n",
       "      <td>71</td>\n",
       "      <td>148</td>\n",
       "    </tr>\n",
       "    <tr>\n",
       "      <th>95</th>\n",
       "      <td>77</td>\n",
       "      <td>76</td>\n",
       "      <td>99</td>\n",
       "      <td>189</td>\n",
       "    </tr>\n",
       "    <tr>\n",
       "      <th>97</th>\n",
       "      <td>72</td>\n",
       "      <td>77</td>\n",
       "      <td>73</td>\n",
       "      <td>193</td>\n",
       "    </tr>\n",
       "    <tr>\n",
       "      <th>98</th>\n",
       "      <td>74</td>\n",
       "      <td>83</td>\n",
       "      <td>89</td>\n",
       "      <td>161</td>\n",
       "    </tr>\n",
       "    <tr>\n",
       "      <th>99</th>\n",
       "      <td>99</td>\n",
       "      <td>75</td>\n",
       "      <td>79</td>\n",
       "      <td>159</td>\n",
       "    </tr>\n",
       "    <tr>\n",
       "      <th>100</th>\n",
       "      <td>95</td>\n",
       "      <td>75</td>\n",
       "      <td>75</td>\n",
       "      <td>157</td>\n",
       "    </tr>\n",
       "    <tr>\n",
       "      <th>101</th>\n",
       "      <td>72</td>\n",
       "      <td>95</td>\n",
       "      <td>74</td>\n",
       "      <td>158</td>\n",
       "    </tr>\n",
       "    <tr>\n",
       "      <th>102</th>\n",
       "      <td>84</td>\n",
       "      <td>80</td>\n",
       "      <td>82</td>\n",
       "      <td>204</td>\n",
       "    </tr>\n",
       "  </tbody>\n",
       "</table>\n",
       "</div>"
      ],
      "text/plain": [
       "    EXAM1 EXAM2 EXAM3  FINAL\n",
       "92     87    72    71    139\n",
       "93     61    57    80    225\n",
       "94     81    75    71    148\n",
       "95     77    76    99    189\n",
       "97     72    77    73    193\n",
       "98     74    83    89    161\n",
       "99     99    75    79    159\n",
       "100    95    75    75    157\n",
       "101    72    95    74    158\n",
       "102    84    80    82    204"
      ]
     },
     "execution_count": 74,
     "metadata": {},
     "output_type": "execute_result"
    }
   ],
   "source": [
    "df.tail(10)"
   ]
  },
  {
   "cell_type": "code",
   "execution_count": 76,
   "metadata": {},
   "outputs": [
    {
     "data": {
      "text/plain": [
       "(94, 4)"
      ]
     },
     "execution_count": 76,
     "metadata": {},
     "output_type": "execute_result"
    }
   ],
   "source": [
    "df.shape ## numero de resgistros que quedan despues de eliminar registros nan"
   ]
  },
  {
   "cell_type": "code",
   "execution_count": 81,
   "metadata": {},
   "outputs": [],
   "source": [
    "## Conversion de los datos a datos numericos- para un manejo mas optimo por las herramientas y recursos de computo\n",
    "df =df.astype('int64')"
   ]
  },
  {
   "cell_type": "code",
   "execution_count": 88,
   "metadata": {},
   "outputs": [
    {
     "name": "stdout",
     "output_type": "stream",
     "text": [
      "<class 'pandas.core.frame.DataFrame'>\n",
      "Int64Index: 94 entries, 0 to 102\n",
      "Data columns (total 4 columns):\n",
      " #   Column  Non-Null Count  Dtype\n",
      "---  ------  --------------  -----\n",
      " 0   EXAM1   94 non-null     int64\n",
      " 1   EXAM2   94 non-null     int64\n",
      " 2   EXAM3   94 non-null     int64\n",
      " 3   FINAL   94 non-null     int64\n",
      "dtypes: int64(4)\n",
      "memory usage: 3.7 KB\n",
      "None\n"
     ]
    }
   ],
   "source": [
    "print(df.info())"
   ]
  },
  {
   "cell_type": "code",
   "execution_count": 89,
   "metadata": {},
   "outputs": [
    {
     "data": {
      "text/html": [
       "<div>\n",
       "<style scoped>\n",
       "    .dataframe tbody tr th:only-of-type {\n",
       "        vertical-align: middle;\n",
       "    }\n",
       "\n",
       "    .dataframe tbody tr th {\n",
       "        vertical-align: top;\n",
       "    }\n",
       "\n",
       "    .dataframe thead th {\n",
       "        text-align: right;\n",
       "    }\n",
       "</style>\n",
       "<table border=\"1\" class=\"dataframe\">\n",
       "  <thead>\n",
       "    <tr style=\"text-align: right;\">\n",
       "      <th></th>\n",
       "      <th>count</th>\n",
       "      <th>mean</th>\n",
       "      <th>std</th>\n",
       "      <th>min</th>\n",
       "      <th>25%</th>\n",
       "      <th>50%</th>\n",
       "      <th>75%</th>\n",
       "      <th>max</th>\n",
       "    </tr>\n",
       "  </thead>\n",
       "  <tbody>\n",
       "    <tr>\n",
       "      <th>EXAM1</th>\n",
       "      <td>94.0</td>\n",
       "      <td>79.510638</td>\n",
       "      <td>11.995290</td>\n",
       "      <td>45.0</td>\n",
       "      <td>72.25</td>\n",
       "      <td>80.0</td>\n",
       "      <td>87.0</td>\n",
       "      <td>107.0</td>\n",
       "    </tr>\n",
       "    <tr>\n",
       "      <th>EXAM2</th>\n",
       "      <td>94.0</td>\n",
       "      <td>78.191489</td>\n",
       "      <td>11.353818</td>\n",
       "      <td>46.0</td>\n",
       "      <td>70.25</td>\n",
       "      <td>78.0</td>\n",
       "      <td>87.0</td>\n",
       "      <td>103.0</td>\n",
       "    </tr>\n",
       "    <tr>\n",
       "      <th>EXAM3</th>\n",
       "      <td>94.0</td>\n",
       "      <td>79.702128</td>\n",
       "      <td>11.785566</td>\n",
       "      <td>49.0</td>\n",
       "      <td>73.00</td>\n",
       "      <td>78.0</td>\n",
       "      <td>90.0</td>\n",
       "      <td>106.0</td>\n",
       "    </tr>\n",
       "    <tr>\n",
       "      <th>FINAL</th>\n",
       "      <td>94.0</td>\n",
       "      <td>158.893617</td>\n",
       "      <td>26.689964</td>\n",
       "      <td>97.0</td>\n",
       "      <td>142.25</td>\n",
       "      <td>157.5</td>\n",
       "      <td>177.0</td>\n",
       "      <td>227.0</td>\n",
       "    </tr>\n",
       "  </tbody>\n",
       "</table>\n",
       "</div>"
      ],
      "text/plain": [
       "       count        mean        std   min     25%    50%    75%    max\n",
       "EXAM1   94.0   79.510638  11.995290  45.0   72.25   80.0   87.0  107.0\n",
       "EXAM2   94.0   78.191489  11.353818  46.0   70.25   78.0   87.0  103.0\n",
       "EXAM3   94.0   79.702128  11.785566  49.0   73.00   78.0   90.0  106.0\n",
       "FINAL   94.0  158.893617  26.689964  97.0  142.25  157.5  177.0  227.0"
      ]
     },
     "execution_count": 89,
     "metadata": {},
     "output_type": "execute_result"
    }
   ],
   "source": [
    "df.describe().T ## Resumen estadistico del dataset "
   ]
  },
  {
   "cell_type": "code",
   "execution_count": 101,
   "metadata": {},
   "outputs": [
    {
     "data": {
      "text/html": [
       "<div>\n",
       "<style scoped>\n",
       "    .dataframe tbody tr th:only-of-type {\n",
       "        vertical-align: middle;\n",
       "    }\n",
       "\n",
       "    .dataframe tbody tr th {\n",
       "        vertical-align: top;\n",
       "    }\n",
       "\n",
       "    .dataframe thead th {\n",
       "        text-align: right;\n",
       "    }\n",
       "</style>\n",
       "<table border=\"1\" class=\"dataframe\">\n",
       "  <thead>\n",
       "    <tr style=\"text-align: right;\">\n",
       "      <th></th>\n",
       "      <th>EXAM1</th>\n",
       "      <th>EXAM2</th>\n",
       "      <th>EXAM3</th>\n",
       "      <th>FINAL</th>\n",
       "    </tr>\n",
       "  </thead>\n",
       "  <tbody>\n",
       "    <tr>\n",
       "      <th>0</th>\n",
       "      <td>73</td>\n",
       "      <td>80</td>\n",
       "      <td>75</td>\n",
       "      <td>152</td>\n",
       "    </tr>\n",
       "    <tr>\n",
       "      <th>1</th>\n",
       "      <td>93</td>\n",
       "      <td>88</td>\n",
       "      <td>93</td>\n",
       "      <td>185</td>\n",
       "    </tr>\n",
       "    <tr>\n",
       "      <th>2</th>\n",
       "      <td>89</td>\n",
       "      <td>91</td>\n",
       "      <td>90</td>\n",
       "      <td>180</td>\n",
       "    </tr>\n",
       "    <tr>\n",
       "      <th>3</th>\n",
       "      <td>96</td>\n",
       "      <td>98</td>\n",
       "      <td>100</td>\n",
       "      <td>196</td>\n",
       "    </tr>\n",
       "    <tr>\n",
       "      <th>4</th>\n",
       "      <td>73</td>\n",
       "      <td>66</td>\n",
       "      <td>70</td>\n",
       "      <td>142</td>\n",
       "    </tr>\n",
       "    <tr>\n",
       "      <th>...</th>\n",
       "      <td>...</td>\n",
       "      <td>...</td>\n",
       "      <td>...</td>\n",
       "      <td>...</td>\n",
       "    </tr>\n",
       "    <tr>\n",
       "      <th>98</th>\n",
       "      <td>74</td>\n",
       "      <td>83</td>\n",
       "      <td>89</td>\n",
       "      <td>161</td>\n",
       "    </tr>\n",
       "    <tr>\n",
       "      <th>99</th>\n",
       "      <td>99</td>\n",
       "      <td>75</td>\n",
       "      <td>79</td>\n",
       "      <td>159</td>\n",
       "    </tr>\n",
       "    <tr>\n",
       "      <th>100</th>\n",
       "      <td>95</td>\n",
       "      <td>75</td>\n",
       "      <td>75</td>\n",
       "      <td>157</td>\n",
       "    </tr>\n",
       "    <tr>\n",
       "      <th>101</th>\n",
       "      <td>72</td>\n",
       "      <td>95</td>\n",
       "      <td>74</td>\n",
       "      <td>158</td>\n",
       "    </tr>\n",
       "    <tr>\n",
       "      <th>102</th>\n",
       "      <td>84</td>\n",
       "      <td>80</td>\n",
       "      <td>82</td>\n",
       "      <td>204</td>\n",
       "    </tr>\n",
       "  </tbody>\n",
       "</table>\n",
       "<p>94 rows × 4 columns</p>\n",
       "</div>"
      ],
      "text/plain": [
       "     EXAM1  EXAM2  EXAM3  FINAL\n",
       "0       73     80     75    152\n",
       "1       93     88     93    185\n",
       "2       89     91     90    180\n",
       "3       96     98    100    196\n",
       "4       73     66     70    142\n",
       "..     ...    ...    ...    ...\n",
       "98      74     83     89    161\n",
       "99      99     75     79    159\n",
       "100     95     75     75    157\n",
       "101     72     95     74    158\n",
       "102     84     80     82    204\n",
       "\n",
       "[94 rows x 4 columns]"
      ]
     },
     "execution_count": 101,
     "metadata": {},
     "output_type": "execute_result"
    }
   ],
   "source": [
    "df_limpio = copy.copy(df)\n",
    "df_limpio"
   ]
  },
  {
   "cell_type": "code",
   "execution_count": null,
   "metadata": {},
   "outputs": [],
   "source": [
    "##Conslusiones de limpieza de datos y exploracion:\n",
    "## Dado que el problema es de examenes, elimine aquellos registros que estaban vacios, por la siguientes razones:\n",
    "## Si remplazo por 0 lo hago menos logico y lineal con la  relacion del examen Final, esto quiere decir que añado ruido a la hora de predecir un resultado\n",
    "## Por lo tanto es mejor eliminar registros invariables con datos vacios que añadir ruido de comportamiento del estudio, haciendo mas predecible el comportamiento del la varable de target posteriormente"
   ]
  },
  {
   "cell_type": "code",
   "execution_count": 90,
   "metadata": {},
   "outputs": [],
   "source": [
    "## 3.- Visualización de los Datos (Selección de Variables Independientes $features$)"
   ]
  },
  {
   "cell_type": "code",
   "execution_count": 92,
   "metadata": {},
   "outputs": [
    {
     "data": {
      "text/plain": [
       "<seaborn.axisgrid.PairGrid at 0x7f69f16bc1d0>"
      ]
     },
     "execution_count": 92,
     "metadata": {},
     "output_type": "execute_result"
    },
    {
     "data": {
      "image/png": "[encoded data removed]",
      "text/plain": [
       "<Figure size 720x720 with 20 Axes>"
      ]
     },
     "metadata": {
      "needs_background": "light"
     },
     "output_type": "display_data"
    }
   ],
   "source": [
    "sns.pairplot(df_limpio) ##Grafico de dipersion y relacion por variables"
   ]
  },
  {
   "cell_type": "code",
   "execution_count": 93,
   "metadata": {},
   "outputs": [],
   "source": [
    "## Conlusion del Grafico de  dispersion y variabilidad:\n",
    "\n",
    "## Se puede observar que los datos estan completamente distribuidos, pero no tienen mucha relacion lineal\n",
    "## Se observa que ningun examen tiene un comportamiento lineal entre si, esto demuestra que los valores de un examen no son influidos por otro\n",
    "## Aunque, datalladamente a ojo se puede establcer que si hay una linealidad en aquellas muestras que matienen una nota promedio 50 - 90\n"
   ]
  },
  {
   "cell_type": "code",
   "execution_count": 95,
   "metadata": {},
   "outputs": [
    {
     "data": {
      "text/html": [
       "<div>\n",
       "<style scoped>\n",
       "    .dataframe tbody tr th:only-of-type {\n",
       "        vertical-align: middle;\n",
       "    }\n",
       "\n",
       "    .dataframe tbody tr th {\n",
       "        vertical-align: top;\n",
       "    }\n",
       "\n",
       "    .dataframe thead th {\n",
       "        text-align: right;\n",
       "    }\n",
       "</style>\n",
       "<table border=\"1\" class=\"dataframe\">\n",
       "  <thead>\n",
       "    <tr style=\"text-align: right;\">\n",
       "      <th></th>\n",
       "      <th>EXAM1</th>\n",
       "      <th>EXAM2</th>\n",
       "      <th>EXAM3</th>\n",
       "      <th>FINAL</th>\n",
       "    </tr>\n",
       "  </thead>\n",
       "  <tbody>\n",
       "    <tr>\n",
       "      <th>EXAM1</th>\n",
       "      <td>1.000000</td>\n",
       "      <td>0.417089</td>\n",
       "      <td>0.256192</td>\n",
       "      <td>0.059451</td>\n",
       "    </tr>\n",
       "    <tr>\n",
       "      <th>EXAM2</th>\n",
       "      <td>0.417089</td>\n",
       "      <td>1.000000</td>\n",
       "      <td>0.167493</td>\n",
       "      <td>0.232059</td>\n",
       "    </tr>\n",
       "    <tr>\n",
       "      <th>EXAM3</th>\n",
       "      <td>0.256192</td>\n",
       "      <td>0.167493</td>\n",
       "      <td>1.000000</td>\n",
       "      <td>0.211256</td>\n",
       "    </tr>\n",
       "    <tr>\n",
       "      <th>FINAL</th>\n",
       "      <td>0.059451</td>\n",
       "      <td>0.232059</td>\n",
       "      <td>0.211256</td>\n",
       "      <td>1.000000</td>\n",
       "    </tr>\n",
       "  </tbody>\n",
       "</table>\n",
       "</div>"
      ],
      "text/plain": [
       "          EXAM1     EXAM2     EXAM3     FINAL\n",
       "EXAM1  1.000000  0.417089  0.256192  0.059451\n",
       "EXAM2  0.417089  1.000000  0.167493  0.232059\n",
       "EXAM3  0.256192  0.167493  1.000000  0.211256\n",
       "FINAL  0.059451  0.232059  0.211256  1.000000"
      ]
     },
     "execution_count": 95,
     "metadata": {},
     "output_type": "execute_result"
    }
   ],
   "source": [
    "matrixCorrelacion = df.corr()\n",
    "matrixCorrelacion"
   ]
  },
  {
   "cell_type": "code",
   "execution_count": 97,
   "metadata": {},
   "outputs": [
    {
     "data": {
      "text/plain": [
       "<matplotlib.axes._subplots.AxesSubplot at 0x7f69ec03a7b8>"
      ]
     },
     "execution_count": 97,
     "metadata": {},
     "output_type": "execute_result"
    },
    {
     "data": {
      "image/png": "[encoded data removed]",
      "text/plain": [
       "<Figure size 1152x576 with 2 Axes>"
      ]
     },
     "metadata": {
      "needs_background": "light"
     },
     "output_type": "display_data"
    }
   ],
   "source": [
    "fig, ax = plt.subplots(figsize = (16,8))\n",
    "sns.heatmap(matrixCorrelacion, annot = True)"
   ]
  },
  {
   "cell_type": "code",
   "execution_count": 98,
   "metadata": {},
   "outputs": [],
   "source": [
    "## Conlusiones grafico de correlacion:\n",
    "## Se observan como las variables poseen una correlacion muy baja, puede llevar a que el modelo prediga un resultado desviado de la rrealidad\n",
    "## Las dos variables mas influyentes para el target (Examen Final), respecto a su correlacion son : EXAMEN 2, EXAMEN 3\n",
    "## Entre los examenes existe una correlacion medianamente, con tendecia a la  baja  de comportamiento y relacion entre si\n"
   ]
  },
  {
   "cell_type": "code",
   "execution_count": 99,
   "metadata": {},
   "outputs": [],
   "source": [
    "##Sección de funciones - Estas permiten un estudio automatizado de relacion lineal del dataset que se escoja"
   ]
  },
  {
   "cell_type": "code",
   "execution_count": 102,
   "metadata": {},
   "outputs": [],
   "source": [
    "def relacionFeature(corrdata, umbral):\n",
    "    feature= []\n",
    "    valor  = []\n",
    "    \n",
    "    for i, index in enumerate(corrdata.index):\n",
    "        if abs(corrdata[index]) > umbral:\n",
    "            feature.append(index)\n",
    "            valor.append(corrdata[index])\n",
    "            \n",
    "    df = pd.DataFrame(data = valor, index = feature, columns=['Valor de Correlación'])\n",
    "    return df\n",
    "\n",
    "total_features = []\n",
    "total_nombre_features = []\n",
    "valor_correlacion_sel = []\n",
    "r2_valores = []\n",
    "mae_valores = []\n",
    "mse_valores =[]\n",
    "\n",
    "def metricas_rendimiento(features, umb, y_true, y_pred):\n",
    "    puntuacion = r2_score(y_true, y_pred)\n",
    "    mae = mean_absolute_error(y_true, y_pred)\n",
    "    mse = mean_squared_error(y_true, y_pred)\n",
    "    \n",
    "    total_features.append(len(features.columns)-1)\n",
    "    total_nombre_features.append(features.columns.tolist())\n",
    "    valor_correlacion_sel.append(umb)\n",
    "    r2_valores.append(puntuacion)\n",
    "    mae_valores.append(mae)\n",
    "    mse_valores.append(mse)\n",
    "    \n",
    "    df_metricas = pd.DataFrame(data=[total_nombre_features,total_features,valor_correlacion_sel, \n",
    "                                     r2_valores, mae_valores, mse_valores  ]\n",
    "                                  , index = ['Nombre $Features$', '# $Features$', 'valCorr', 'r2_score', 'MAE', 'MSE'])\n",
    "    return df_metricas.T\n",
    "\n",
    "def obten_y_predict(data_Corr):\n",
    "    X = data_Corr.drop(labels= ['Adj Close'], axis=1)\n",
    "    y = data_Corr['Adj Close']\n",
    "    \n",
    "    X_train, X_test, y_train, t_test = train_test_split(X,y, test_size=0.2, random_state=0)\n",
    "    modelo = LinearRegression()\n",
    "    modelo.fit(X_train, y_train)\n",
    "    y_predict = modelo.predict(X_test)\n",
    "    \n",
    "    return y_predict"
   ]
  },
  {
   "cell_type": "code",
   "execution_count": 103,
   "metadata": {},
   "outputs": [],
   "source": [
    "## Se realiza los modelos lineales y su estudio"
   ]
  },
  {
   "cell_type": "code",
   "execution_count": 105,
   "metadata": {},
   "outputs": [
    {
     "data": {
      "text/html": [
       "<div>\n",
       "<style scoped>\n",
       "    .dataframe tbody tr th:only-of-type {\n",
       "        vertical-align: middle;\n",
       "    }\n",
       "\n",
       "    .dataframe tbody tr th {\n",
       "        vertical-align: top;\n",
       "    }\n",
       "\n",
       "    .dataframe thead th {\n",
       "        text-align: right;\n",
       "    }\n",
       "</style>\n",
       "<table border=\"1\" class=\"dataframe\">\n",
       "  <thead>\n",
       "    <tr style=\"text-align: right;\">\n",
       "      <th></th>\n",
       "      <th>Valor de Correlación</th>\n",
       "    </tr>\n",
       "  </thead>\n",
       "  <tbody>\n",
       "    <tr>\n",
       "      <th>EXAM2</th>\n",
       "      <td>0.232059</td>\n",
       "    </tr>\n",
       "    <tr>\n",
       "      <th>EXAM3</th>\n",
       "      <td>0.211256</td>\n",
       "    </tr>\n",
       "    <tr>\n",
       "      <th>FINAL</th>\n",
       "      <td>1.000000</td>\n",
       "    </tr>\n",
       "  </tbody>\n",
       "</table>\n",
       "</div>"
      ],
      "text/plain": [
       "       Valor de Correlación\n",
       "EXAM2              0.232059\n",
       "EXAM3              0.211256\n",
       "FINAL              1.000000"
      ]
     },
     "execution_count": 105,
     "metadata": {},
     "output_type": "execute_result"
    }
   ],
   "source": [
    "# Se fija el primer umbral de 20%,  este valor escojido  y basado en la matriz de correlacion de los examenes que pueden influir en el mejor modelo\n",
    "## basado en su relacion con el Target\n",
    "umbral = 0.2\n",
    "valorCorrelacion = relacionFeature(matrixCorrelacion['FINAL'], umbral)\n",
    "valorCorrelacion"
   ]
  },
  {
   "cell_type": "code",
   "execution_count": 107,
   "metadata": {},
   "outputs": [],
   "source": [
    "#DataFrame con valores de umbral 20% de correlación\n",
    "df_umbral_20 = df[valorCorrelacion.index]\n",
    "\n",
    "X = df_umbral_20.drop('FINAL', axis=1)\n",
    "y = df_umbral_20['FINAL']\n",
    "\n",
    "### División Valores en bloques de Entrenamiento y Prueba\n",
    "from sklearn.model_selection import train_test_split\n",
    "x_train, x_test, y_train, y_test = train_test_split(X, y, test_size=0.2, random_state=0)"
   ]
  },
  {
   "cell_type": "code",
   "execution_count": 109,
   "metadata": {},
   "outputs": [],
   "source": [
    "# Selección a modelo lineal\n",
    "modelo = LinearRegression()\n",
    "# Entrenar el model0\n",
    "modelo.fit(x_train, y_train)\n",
    "\n",
    "y_pred_train   = modelo.predict(x_train)\n",
    "y_predict  = modelo.predict(x_test)"
   ]
  },
  {
   "cell_type": "code",
   "execution_count": 112,
   "metadata": {},
   "outputs": [
    {
     "name": "stdout",
     "output_type": "stream",
     "text": [
      "Los coeficientes del modelo son:  [0.52742064 0.23819936]\n",
      "El punto de Inteseccion es :  99.02712763639416\n",
      "Formula del modelo es : Y = 0.5274206372186651*(x1) + 0.23819935784820156*x2 + 99.02712763639416 \n"
     ]
    }
   ],
   "source": [
    "print(\"Los coeficientes del modelo son: \", modelo.coef_)\n",
    "print(\"El punto de Inteseccion es : \",modelo.intercept_)\n",
    "print(\"Formula del modelo es : Y = {}*(x1) + {}*x2 + {} \".format(modelo.coef_[0],modelo.coef_[1],modelo.intercept_))"
   ]
  },
  {
   "cell_type": "code",
   "execution_count": 113,
   "metadata": {},
   "outputs": [
    {
     "data": {
      "text/html": [
       "<div>\n",
       "<style scoped>\n",
       "    .dataframe tbody tr th:only-of-type {\n",
       "        vertical-align: middle;\n",
       "    }\n",
       "\n",
       "    .dataframe tbody tr th {\n",
       "        vertical-align: top;\n",
       "    }\n",
       "\n",
       "    .dataframe thead th {\n",
       "        text-align: right;\n",
       "    }\n",
       "</style>\n",
       "<table border=\"1\" class=\"dataframe\">\n",
       "  <thead>\n",
       "    <tr style=\"text-align: right;\">\n",
       "      <th></th>\n",
       "      <th>Nombre $Features$</th>\n",
       "      <th># $Features$</th>\n",
       "      <th>valCorr</th>\n",
       "      <th>r2_score</th>\n",
       "      <th>MAE</th>\n",
       "      <th>MSE</th>\n",
       "    </tr>\n",
       "  </thead>\n",
       "  <tbody>\n",
       "    <tr>\n",
       "      <th>0</th>\n",
       "      <td>[EXAM2, EXAM3, FINAL]</td>\n",
       "      <td>2</td>\n",
       "      <td>0.2</td>\n",
       "      <td>0.169496</td>\n",
       "      <td>15.7354</td>\n",
       "      <td>378.609</td>\n",
       "    </tr>\n",
       "  </tbody>\n",
       "</table>\n",
       "</div>"
      ],
      "text/plain": [
       "       Nombre $Features$ # $Features$ valCorr  r2_score      MAE      MSE\n",
       "0  [EXAM2, EXAM3, FINAL]            2     0.2  0.169496  15.7354  378.609"
      ]
     },
     "execution_count": 113,
     "metadata": {},
     "output_type": "execute_result"
    }
   ],
   "source": [
    "# dataCorrAcept de arriba (dataframe con los features del umbral aceptado o buscado)\n",
    "metricas_rendimiento(df_umbral_20, umbral, y_test, y_predict)"
   ]
  },
  {
   "cell_type": "code",
   "execution_count": 115,
   "metadata": {},
   "outputs": [
    {
     "data": {
      "text/html": [
       "<div>\n",
       "<style scoped>\n",
       "    .dataframe tbody tr th:only-of-type {\n",
       "        vertical-align: middle;\n",
       "    }\n",
       "\n",
       "    .dataframe tbody tr th {\n",
       "        vertical-align: top;\n",
       "    }\n",
       "\n",
       "    .dataframe thead th {\n",
       "        text-align: right;\n",
       "    }\n",
       "</style>\n",
       "<table border=\"1\" class=\"dataframe\">\n",
       "  <thead>\n",
       "    <tr style=\"text-align: right;\">\n",
       "      <th></th>\n",
       "      <th>Actual</th>\n",
       "      <th>Predicted</th>\n",
       "    </tr>\n",
       "  </thead>\n",
       "  <tbody>\n",
       "    <tr>\n",
       "      <th>102</th>\n",
       "      <td>204</td>\n",
       "      <td>160.753126</td>\n",
       "    </tr>\n",
       "    <tr>\n",
       "      <th>62</th>\n",
       "      <td>118</td>\n",
       "      <td>164.887357</td>\n",
       "    </tr>\n",
       "    <tr>\n",
       "      <th>8</th>\n",
       "      <td>175</td>\n",
       "      <td>162.131300</td>\n",
       "    </tr>\n",
       "    <tr>\n",
       "      <th>23</th>\n",
       "      <td>149</td>\n",
       "      <td>159.715195</td>\n",
       "    </tr>\n",
       "    <tr>\n",
       "      <th>78</th>\n",
       "      <td>177</td>\n",
       "      <td>161.450814</td>\n",
       "    </tr>\n",
       "  </tbody>\n",
       "</table>\n",
       "</div>"
      ],
      "text/plain": [
       "     Actual   Predicted\n",
       "102     204  160.753126\n",
       "62      118  164.887357\n",
       "8       175  162.131300\n",
       "23      149  159.715195\n",
       "78      177  161.450814"
      ]
     },
     "execution_count": 115,
     "metadata": {},
     "output_type": "execute_result"
    }
   ],
   "source": [
    "# Diferencia entre 'Predicted' y valor actual\n",
    "dfPredict = pd.DataFrame({'Actual': y_test, 'Predicted': y_predict})\n",
    "dfPredict.tail()"
   ]
  },
  {
   "cell_type": "code",
   "execution_count": 116,
   "metadata": {},
   "outputs": [],
   "source": [
    "## Conclusiones de Metricas con un umbral del 20%:\n",
    "# se observa que r2 es score es demasiado bajo, esto quiere decir que el modelo no establece de forma correcta una prediccion \n",
    "# Los MSE  Y MAE, tiene un grado alto de valor, reflejando  y reapldando la conclusion anterior\n",
    "# demuestra que con el valor de  los datos del EXAMEN 2 Y EXAMEN 3 no pueden establecer una prediccion de EXAMEN FINAL estable"
   ]
  },
  {
   "cell_type": "code",
   "execution_count": 118,
   "metadata": {},
   "outputs": [],
   "source": [
    "predictiones = modelo.predict(X)\n"
   ]
  },
  {
   "cell_type": "code",
   "execution_count": 128,
   "metadata": {},
   "outputs": [
    {
     "data": {
      "text/plain": [
       "Text(0.5, 1.0, 'Residual Plot')"
      ]
     },
     "execution_count": 128,
     "metadata": {},
     "output_type": "execute_result"
    },
    {
     "data": {
      "image/png": "[encoded data removed]",
      "text/plain": [
       "<Figure size 432x288 with 1 Axes>"
      ]
     },
     "metadata": {
      "needs_background": "light"
     },
     "output_type": "display_data"
    }
   ],
   "source": [
    "### Grafico de residuos frente a los valores ajustados\n",
    "sns.residplot(predictiones.reshape(-1), 'FINAL', data=df_umbral_20, lowess=True, \n",
    "             line_kws={'color':'red','lw':2, 'alpha':1})\n",
    "plt.xlabel('Fitted values')\n",
    "plt.title('Residual Plot')"
   ]
  },
  {
   "cell_type": "code",
   "execution_count": null,
   "metadata": {},
   "outputs": [],
   "source": [
    "## Conclusion  Grafico de residuos frente a los valores ajustados:\n",
    "# Se demostro la conclusion de la primera parte, que describe como hay un puntajes que respetan un comportamiento leve de linealidad.\n",
    "# Pero igualmente hay datos que no tiene un comportamiento estable, esto quiere decir que hay casos donde los Examenes previos al final no influyen en el valor de este ()"
   ]
  },
  {
   "cell_type": "code",
   "execution_count": 125,
   "metadata": {},
   "outputs": [
    {
     "data": {
      "text/plain": [
       "0      -7.085730\n",
       "1      17.407316\n",
       "2      11.539652\n",
       "3      21.465714\n",
       "4      -8.510845\n",
       "         ...    \n",
       "98     -3.002783\n",
       "99      1.598575\n",
       "100     0.551373\n",
       "101    -8.758841\n",
       "102    43.246874\n",
       "Name: FINAL, Length: 94, dtype: float64"
      ]
     },
     "execution_count": 125,
     "metadata": {},
     "output_type": "execute_result"
    }
   ],
   "source": [
    "### Grafico QQ \n",
    "## Este gráfico muestra si los residuos (errores) se distribuyen normalmente o no. \n",
    "## Si los puntos se encuentran cerca de la línea normal (Diagonal), \n",
    "## se supone que los residuos se distribuyen normalmente.\n",
    "\n",
    "residuales = df_umbral_20['FINAL'] - predictiones.reshape(-1)\n",
    "residuales"
   ]
  },
  {
   "cell_type": "code",
   "execution_count": 127,
   "metadata": {},
   "outputs": [
    {
     "data": {
      "text/plain": [
       "Text(0.5, 1.0, 'Normal Q-Q Plot')"
      ]
     },
     "execution_count": 127,
     "metadata": {},
     "output_type": "execute_result"
    },
    {
     "data": {
      "image/png": "[encoded data removed]",
      "text/plain": [
       "<Figure size 792x432 with 1 Axes>"
      ]
     },
     "metadata": {
      "needs_background": "light"
     },
     "output_type": "display_data"
    }
   ],
   "source": [
    "plt.figure(figsize=(11,6))\n",
    "stats.probplot(residuales, dist=\"norm\", plot=plt)\n",
    "plt.title(\"Normal Q-Q Plot\")"
   ]
  },
  {
   "cell_type": "code",
   "execution_count": 129,
   "metadata": {},
   "outputs": [],
   "source": [
    "## Conclusion grafi Q-Q:\n",
    "## Se observa que los dostos si se distribuyen normalmente "
   ]
  },
  {
   "cell_type": "code",
   "execution_count": 140,
   "metadata": {},
   "outputs": [
    {
     "data": {
      "text/html": [
       "<div>\n",
       "<style scoped>\n",
       "    .dataframe tbody tr th:only-of-type {\n",
       "        vertical-align: middle;\n",
       "    }\n",
       "\n",
       "    .dataframe tbody tr th {\n",
       "        vertical-align: top;\n",
       "    }\n",
       "\n",
       "    .dataframe thead th {\n",
       "        text-align: right;\n",
       "    }\n",
       "</style>\n",
       "<table border=\"1\" class=\"dataframe\">\n",
       "  <thead>\n",
       "    <tr style=\"text-align: right;\">\n",
       "      <th></th>\n",
       "      <th>Valor de Correlación</th>\n",
       "    </tr>\n",
       "  </thead>\n",
       "  <tbody>\n",
       "    <tr>\n",
       "      <th>EXAM1</th>\n",
       "      <td>0.059451</td>\n",
       "    </tr>\n",
       "    <tr>\n",
       "      <th>EXAM2</th>\n",
       "      <td>0.232059</td>\n",
       "    </tr>\n",
       "    <tr>\n",
       "      <th>EXAM3</th>\n",
       "      <td>0.211256</td>\n",
       "    </tr>\n",
       "    <tr>\n",
       "      <th>FINAL</th>\n",
       "      <td>1.000000</td>\n",
       "    </tr>\n",
       "  </tbody>\n",
       "</table>\n",
       "</div>"
      ],
      "text/plain": [
       "       Valor de Correlación\n",
       "EXAM1              0.059451\n",
       "EXAM2              0.232059\n",
       "EXAM3              0.211256\n",
       "FINAL              1.000000"
      ]
     },
     "execution_count": 140,
     "metadata": {},
     "output_type": "execute_result"
    }
   ],
   "source": [
    "# Se fija el primer umbral de 4%,  este valor escojido  y basado en la matriz de correlacion de los examenes que pueden influir en el mejor modelo\n",
    "## basado en su relacion con el Target, esto para incluir el Examen 1 que es el que menos tiene correlacion\n",
    "umbral2 = 0.04\n",
    "valorCorrelacion2 = relacionFeature(matrixCorrelacion['FINAL'], umbral2)\n",
    "valorCorrelacion2"
   ]
  },
  {
   "cell_type": "code",
   "execution_count": 141,
   "metadata": {},
   "outputs": [],
   "source": [
    "#DataFrame con valores de umbral 0.04% de correlación\n",
    "df_umbral_4 = df[valorCorrelacion2.index]\n",
    "\n",
    "X = df_umbral_4.drop('FINAL', axis=1)\n",
    "y = df_umbral_4['FINAL']\n",
    "\n",
    "### División Valores en bloques de Entrenamiento y Prueba\n",
    "from sklearn.model_selection import train_test_split\n",
    "x_train, x_test, y_train, y_test = train_test_split(X, y, test_size=0.2, random_state=0)"
   ]
  },
  {
   "cell_type": "code",
   "execution_count": 143,
   "metadata": {},
   "outputs": [],
   "source": [
    "# Selección a modelo lineal\n",
    "modelo2 = LinearRegression()\n",
    "# Entrenar el model0\n",
    "modelo2.fit(x_train, y_train)\n",
    "\n",
    "y_pred_train   = modelo2.predict(x_train)\n",
    "y_predict  = modelo2.predict(x_test)"
   ]
  },
  {
   "cell_type": "code",
   "execution_count": 145,
   "metadata": {},
   "outputs": [
    {
     "name": "stdout",
     "output_type": "stream",
     "text": [
      "Los coeficientes del modelo son:  [-0.32014182  0.64748072  0.29405188]\n",
      "El punto de Inteseccion es :  110.68815668278326\n",
      "Formula del modelo es : Y = -0.3201418150381256*(x1) + 0.6474807185363634*x2 + 0.29405187634260993*x3 + 110.68815668278326 \n"
     ]
    }
   ],
   "source": [
    "print(\"Los coeficientes del modelo son: \", modelo2.coef_)\n",
    "print(\"El punto de Inteseccion es : \",modelo2.intercept_)\n",
    "print(\"Formula del modelo es : Y = {}*(x1) + {}*x2 + {}*x3 + {} \".format(modelo2.coef_[0],modelo2.coef_[1],modelo2.coef_[2],modelo2.intercept_))"
   ]
  },
  {
   "cell_type": "code",
   "execution_count": 150,
   "metadata": {},
   "outputs": [],
   "source": [
    "## Conclusion rapida:\n",
    "## Se observa como el coeficiente  x1 es engativo, queire decir que influira negativamente sobre la predicciion lineal "
   ]
  },
  {
   "cell_type": "code",
   "execution_count": 148,
   "metadata": {},
   "outputs": [
    {
     "data": {
      "text/html": [
       "<div>\n",
       "<style scoped>\n",
       "    .dataframe tbody tr th:only-of-type {\n",
       "        vertical-align: middle;\n",
       "    }\n",
       "\n",
       "    .dataframe tbody tr th {\n",
       "        vertical-align: top;\n",
       "    }\n",
       "\n",
       "    .dataframe thead th {\n",
       "        text-align: right;\n",
       "    }\n",
       "</style>\n",
       "<table border=\"1\" class=\"dataframe\">\n",
       "  <thead>\n",
       "    <tr style=\"text-align: right;\">\n",
       "      <th></th>\n",
       "      <th>Actual</th>\n",
       "      <th>Predicted</th>\n",
       "    </tr>\n",
       "  </thead>\n",
       "  <tbody>\n",
       "    <tr>\n",
       "      <th>102</th>\n",
       "      <td>204</td>\n",
       "      <td>159.706956</td>\n",
       "    </tr>\n",
       "    <tr>\n",
       "      <th>62</th>\n",
       "      <td>118</td>\n",
       "      <td>165.091022</td>\n",
       "    </tr>\n",
       "    <tr>\n",
       "      <th>8</th>\n",
       "      <td>175</td>\n",
       "      <td>160.451464</td>\n",
       "    </tr>\n",
       "    <tr>\n",
       "      <th>23</th>\n",
       "      <td>149</td>\n",
       "      <td>160.975962</td>\n",
       "    </tr>\n",
       "    <tr>\n",
       "      <th>78</th>\n",
       "      <td>177</td>\n",
       "      <td>158.345286</td>\n",
       "    </tr>\n",
       "  </tbody>\n",
       "</table>\n",
       "</div>"
      ],
      "text/plain": [
       "     Actual   Predicted\n",
       "102     204  159.706956\n",
       "62      118  165.091022\n",
       "8       175  160.451464\n",
       "23      149  160.975962\n",
       "78      177  158.345286"
      ]
     },
     "execution_count": 148,
     "metadata": {},
     "output_type": "execute_result"
    }
   ],
   "source": [
    "# Diferencia entre 'Predicted' y valor actual\n",
    "dfPredict = pd.DataFrame({'Actual': y_test, 'Predicted': y_predict})\n",
    "dfPredict.tail()\n"
   ]
  },
  {
   "cell_type": "code",
   "execution_count": 149,
   "metadata": {},
   "outputs": [
    {
     "data": {
      "text/html": [
       "<div>\n",
       "<style scoped>\n",
       "    .dataframe tbody tr th:only-of-type {\n",
       "        vertical-align: middle;\n",
       "    }\n",
       "\n",
       "    .dataframe tbody tr th {\n",
       "        vertical-align: top;\n",
       "    }\n",
       "\n",
       "    .dataframe thead th {\n",
       "        text-align: right;\n",
       "    }\n",
       "</style>\n",
       "<table border=\"1\" class=\"dataframe\">\n",
       "  <thead>\n",
       "    <tr style=\"text-align: right;\">\n",
       "      <th></th>\n",
       "      <th>Nombre $Features$</th>\n",
       "      <th># $Features$</th>\n",
       "      <th>valCorr</th>\n",
       "      <th>r2_score</th>\n",
       "      <th>MAE</th>\n",
       "      <th>MSE</th>\n",
       "    </tr>\n",
       "  </thead>\n",
       "  <tbody>\n",
       "    <tr>\n",
       "      <th>0</th>\n",
       "      <td>[EXAM2, EXAM3, FINAL]</td>\n",
       "      <td>2</td>\n",
       "      <td>0.2</td>\n",
       "      <td>0.169496</td>\n",
       "      <td>15.7354</td>\n",
       "      <td>378.609</td>\n",
       "    </tr>\n",
       "    <tr>\n",
       "      <th>1</th>\n",
       "      <td>[EXAM1, EXAM2, EXAM3, FINAL]</td>\n",
       "      <td>3</td>\n",
       "      <td>0.04</td>\n",
       "      <td>0.0848499</td>\n",
       "      <td>16.5014</td>\n",
       "      <td>417.197</td>\n",
       "    </tr>\n",
       "  </tbody>\n",
       "</table>\n",
       "</div>"
      ],
      "text/plain": [
       "              Nombre $Features$ # $Features$ valCorr   r2_score      MAE  \\\n",
       "0         [EXAM2, EXAM3, FINAL]            2     0.2   0.169496  15.7354   \n",
       "1  [EXAM1, EXAM2, EXAM3, FINAL]            3    0.04  0.0848499  16.5014   \n",
       "\n",
       "       MSE  \n",
       "0  378.609  \n",
       "1  417.197  "
      ]
     },
     "execution_count": 149,
     "metadata": {},
     "output_type": "execute_result"
    }
   ],
   "source": [
    "# dataCorrAcept de arriba (dataframe con los features del umbral aceptado o buscado)\n",
    "metricas_rendimiento(df_umbral_4, umbral2, y_test, y_predict)"
   ]
  },
  {
   "cell_type": "code",
   "execution_count": 153,
   "metadata": {},
   "outputs": [],
   "source": [
    "## Conlsion  rapida:\n",
    "## si se añade el feature EXAMEN3 incide negativamente sobre el modelo lineal aunmentando los errores en las metricas y  contruyendo un modelo nada funcional\n"
   ]
  },
  {
   "cell_type": "code",
   "execution_count": 154,
   "metadata": {},
   "outputs": [],
   "source": [
    "predictiones = modelo2.predict(X)\n"
   ]
  },
  {
   "cell_type": "code",
   "execution_count": 157,
   "metadata": {},
   "outputs": [
    {
     "data": {
      "text/plain": [
       "Text(0.5, 1.0, 'Residual Plot')"
      ]
     },
     "execution_count": 157,
     "metadata": {},
     "output_type": "execute_result"
    },
    {
     "data": {
      "image/png": "[encoded data removed]",
      "text/plain": [
       "<Figure size 432x288 with 1 Axes>"
      ]
     },
     "metadata": {
      "needs_background": "light"
     },
     "output_type": "display_data"
    }
   ],
   "source": [
    "### Grafico de residuos frente a los valores ajustados\n",
    "sns.residplot(predictiones.reshape(-1), 'FINAL', data=df_umbral_4, lowess=True, \n",
    "             line_kws={'color':'red','lw':2, 'alpha':1})\n",
    "plt.xlabel('Fitted values')\n",
    "plt.title('Residual Plot')"
   ]
  },
  {
   "cell_type": "code",
   "execution_count": 159,
   "metadata": {},
   "outputs": [
    {
     "data": {
      "text/plain": [
       "0      -9.170152\n",
       "1      19.759904\n",
       "2      12.419051\n",
       "3      23.187160\n",
       "4      -8.635163\n",
       "         ...    \n",
       "98     -5.909179\n",
       "99      8.214731\n",
       "100     6.110371\n",
       "101   -12.908453\n",
       "102    44.293044\n",
       "Name: FINAL, Length: 94, dtype: float64"
      ]
     },
     "execution_count": 159,
     "metadata": {},
     "output_type": "execute_result"
    }
   ],
   "source": [
    "### Grafico QQ \n",
    "## Este gráfico muestra si los residuos (errores) se distribuyen normalmente o no. \n",
    "## Si los puntos se encuentran cerca de la línea normal (Diagonal), \n",
    "## se supone que los residuos se distribuyen normalmente.\n",
    "\n",
    "residuales = df_umbral_4['FINAL'] - predictiones.reshape(-1)\n",
    "residuales"
   ]
  },
  {
   "cell_type": "code",
   "execution_count": 160,
   "metadata": {},
   "outputs": [
    {
     "data": {
      "text/plain": [
       "Text(0.5, 1.0, 'Normal Q-Q Plot')"
      ]
     },
     "execution_count": 160,
     "metadata": {},
     "output_type": "execute_result"
    },
    {
     "data": {
      "image/png": "[encoded data removed]",
      "text/plain": [
       "<Figure size 792x432 with 1 Axes>"
      ]
     },
     "metadata": {
      "needs_background": "light"
     },
     "output_type": "display_data"
    }
   ],
   "source": [
    "plt.figure(figsize=(11,6))\n",
    "stats.probplot(residuales, dist=\"norm\", plot=plt)\n",
    "plt.title(\"Normal Q-Q Plot\")"
   ]
  }
 ],
 "metadata": {
  "kernelspec": {
   "display_name": "Python 3",
   "language": "python",
   "name": "python3"
  },
  "language_info": {
   "codemirror_mode": {
    "name": "ipython",
    "version": 3
   },
   "file_extension": ".py",
   "mimetype": "text/x-python",
   "name": "python",
   "nbconvert_exporter": "python",
   "pygments_lexer": "ipython3",
   "version": "3.8.5"
  }
 },
 "nbformat": 4,
 "nbformat_minor": 4
}
