{
 "cells": [
  {
   "cell_type": "markdown",
   "metadata": {},
   "source": [
    "![](./img/logo.png)"
   ]
  },
  {
   "cell_type": "markdown",
   "metadata": {},
   "source": [
    "# Ejemplo C: Regresión Lineal\n",
    "\n",
    "$Sci-Kit Learn$ es un poderoso módulo de Python para el aprendizaje de máquina. \n",
    "Contiene funciones de regresión, clasificación, agrupación, selección de modelos y reducción de la dimensionalidad. \n",
    "\n",
    "El ejemplo se utilizará el módulo <a href=\"https://scikit-learn.org/stable/modules/generated/sklearn.linear_model.LinearRegression.html\">sklearn.linear_model</a> que contiene \n",
    "\"métodos destinados a la regresión en los que se espera que el $Target$ Value \n",
    "sea una combinación lineal de las variables de entrada $features$\"."
   ]
  },
  {
   "cell_type": "code",
   "execution_count": 1,
   "metadata": {},
   "outputs": [],
   "source": [
    "## Nombre : German Daniel Rojas\n",
    "## \n",
    "## Universidad Sergio Arboleda\n",
    "## Programacion Cientifica "
   ]
  },
  {
   "cell_type": "markdown",
   "metadata": {},
   "source": [
    "## 1.- Se cargan las bibliotecas con sus módulos correspondientes"
   ]
  },
  {
   "cell_type": "code",
   "execution_count": 10,
   "metadata": {},
   "outputs": [],
   "source": [
    "import pandas as pd\n",
    "import numpy as np\n",
    "import matplotlib.pyplot as plt\n",
    "from sklearn.linear_model import LinearRegression\n",
    "from sklearn.metrics import r2_score, mean_squared_error,mean_absolute_error\n",
    "from sklearn.model_selection import train_test_split\n",
    "\n",
    "import statsmodels.api as sm"
   ]
  },
  {
   "cell_type": "markdown",
   "metadata": {},
   "source": [
    "## 2.- Exporación y preparación del conjunto de datos "
   ]
  },
  {
   "cell_type": "code",
   "execution_count": 8,
   "metadata": {},
   "outputs": [
    {
     "data": {
      "text/html": [
       "<div>\n",
       "<style scoped>\n",
       "    .dataframe tbody tr th:only-of-type {\n",
       "        vertical-align: middle;\n",
       "    }\n",
       "\n",
       "    .dataframe tbody tr th {\n",
       "        vertical-align: top;\n",
       "    }\n",
       "\n",
       "    .dataframe thead th {\n",
       "        text-align: right;\n",
       "    }\n",
       "</style>\n",
       "<table border=\"1\" class=\"dataframe\">\n",
       "  <thead>\n",
       "    <tr style=\"text-align: right;\">\n",
       "      <th></th>\n",
       "      <th>Unnamed: 0</th>\n",
       "      <th>TV</th>\n",
       "      <th>radio</th>\n",
       "      <th>newspaper</th>\n",
       "      <th>sales</th>\n",
       "    </tr>\n",
       "  </thead>\n",
       "  <tbody>\n",
       "    <tr>\n",
       "      <th>0</th>\n",
       "      <td>1</td>\n",
       "      <td>230.1</td>\n",
       "      <td>37.8</td>\n",
       "      <td>69.2</td>\n",
       "      <td>22.1</td>\n",
       "    </tr>\n",
       "    <tr>\n",
       "      <th>1</th>\n",
       "      <td>2</td>\n",
       "      <td>44.5</td>\n",
       "      <td>39.3</td>\n",
       "      <td>45.1</td>\n",
       "      <td>10.4</td>\n",
       "    </tr>\n",
       "    <tr>\n",
       "      <th>2</th>\n",
       "      <td>3</td>\n",
       "      <td>17.2</td>\n",
       "      <td>45.9</td>\n",
       "      <td>69.3</td>\n",
       "      <td>9.3</td>\n",
       "    </tr>\n",
       "    <tr>\n",
       "      <th>3</th>\n",
       "      <td>4</td>\n",
       "      <td>151.5</td>\n",
       "      <td>41.3</td>\n",
       "      <td>58.5</td>\n",
       "      <td>18.5</td>\n",
       "    </tr>\n",
       "    <tr>\n",
       "      <th>4</th>\n",
       "      <td>5</td>\n",
       "      <td>180.8</td>\n",
       "      <td>10.8</td>\n",
       "      <td>58.4</td>\n",
       "      <td>12.9</td>\n",
       "    </tr>\n",
       "  </tbody>\n",
       "</table>\n",
       "</div>"
      ],
      "text/plain": [
       "   Unnamed: 0     TV  radio  newspaper  sales\n",
       "0           1  230.1   37.8       69.2   22.1\n",
       "1           2   44.5   39.3       45.1   10.4\n",
       "2           3   17.2   45.9       69.3    9.3\n",
       "3           4  151.5   41.3       58.5   18.5\n",
       "4           5  180.8   10.8       58.4   12.9"
      ]
     },
     "execution_count": 8,
     "metadata": {},
     "output_type": "execute_result"
    }
   ],
   "source": [
    "data = pd.read_csv('./data/Advertising.csv')\n",
    "data.head()"
   ]
  },
  {
   "cell_type": "markdown",
   "metadata": {},
   "source": [
    "## 3.- A continuación se ajustará el modelo de regresión lineal y predecir \n",
    "Para estimar los coeficientes se usará el método de <a href=\"https://www.varsitytutors.com/hotmath/hotmath_help/spanish/topics/line-of-best-fit\">Mínimos Cuadrados.</a>. \n",
    "\n",
    "### X = dataF[\"TV\"] (o variables independientes)\n",
    "### Y = dataF[\"sales\"]\n"
   ]
  },
  {
   "cell_type": "code",
   "execution_count": 94,
   "metadata": {},
   "outputs": [],
   "source": [
    "X = data['TV']\n",
    "Y =  data['sales']\n",
    "##Division de los Datos en : Datos de Entrenamiento y Datos de Testeo\n",
    "x_train, x_test, y_train, y_test  = train_test_split(X,Y, test_size=0.5, random_state=0)"
   ]
  },
  {
   "cell_type": "markdown",
   "metadata": {},
   "source": [
    "### Las funciones importantes a tener en cuenta al ajustar un modelo de regresión lineal son:\n",
    "\n",
    "**lm.fit()**     -> Ajusta a un modelo lineal\n",
    "\n",
    "**lm.predict()** -> Predecir **$Y$** usando el modelo lineal con coeficientes estimados\n",
    "\n",
    "**lm.score()**   -> Devuelve el <a href=\"https://www.addlink.es/noticias/minitab/2736-como-interpretar-un-modelo-de-regresion-con-bajo-coeficiente-de-determinacion-r-cuadrado-y-bajos-valores-p\">coeficiente de determinación (R$^2$)</a>. \n",
    " \n",
    " - [Una medida de cuán bien se replican los resultados observados por el modelo, \n",
    "como la proporción de la variación total de los resultados explicada por el modelo.]\n",
    "    \n",
    "\n",
    "### Por hacer\n",
    "- Diagrama de dispersión (X;Y).\n",
    "- Ajuste a modelo lineal\n",
    "- Selección del modelo lineal\n",
    "- Entrenamiento del modelo\n",
    "- Impresión coeficientes e intersepción.\n",
    "- Diagrama de Dispersión."
   ]
  },
  {
   "cell_type": "code",
   "execution_count": 106,
   "metadata": {},
   "outputs": [
    {
     "data": {
      "text/plain": [
       "Text(0.5, 1.0, 'Inversion TV vs Sales')"
      ]
     },
     "execution_count": 106,
     "metadata": {},
     "output_type": "execute_result"
    },
    {
     "data": {
      "image/png": "[encoded data removed]",
      "text/plain": [
       "<Figure size 1152x576 with 1 Axes>"
      ]
     },
     "metadata": {
      "needs_background": "light"
     },
     "output_type": "display_data"
    }
   ],
   "source": [
    "##Visualizacion Original de los DATOS\n",
    "plt.figure(figsize=(16,8))\n",
    "plt.scatter(X,Y)\n",
    "plt.xlabel('Inversion  $$$  TV')\n",
    "plt.ylabel('Sales')\n",
    "plt.title(\"Inversion TV vs Sales\")"
   ]
  },
  {
   "cell_type": "code",
   "execution_count": 96,
   "metadata": {},
   "outputs": [],
   "source": [
    "# Selección a modelo lineal\n",
    "\n",
    "lm = LinearRegression()"
   ]
  },
  {
   "cell_type": "code",
   "execution_count": 97,
   "metadata": {},
   "outputs": [],
   "source": [
    "# Entrenar el model0\n",
    "model_Train = lm.fit(x_train.values.reshape(-1, 1),y_train.values.reshape(-1, 1))"
   ]
  },
  {
   "cell_type": "code",
   "execution_count": 98,
   "metadata": {},
   "outputs": [
    {
     "name": "stdout",
     "output_type": "stream",
     "text": [
      "Impresion de Intercepción =  [7.38303208]\n",
      "Impresion de Coeficientes =  [[0.04555951]]\n",
      "Numero de coeficientes =  1\n"
     ]
    }
   ],
   "source": [
    "# Impresión de intercepción, coeficientes y numero de coeficientes\n",
    "print(\"Impresion de Intercepción = \",model_Train.intercept_)\n",
    "print(\"Impresion de Coeficientes = \",model_Train.coef_)\n",
    "print(\"Numero de coeficientes = \", len(model_Train.coef_))"
   ]
  },
  {
   "cell_type": "code",
   "execution_count": 99,
   "metadata": {},
   "outputs": [
    {
     "name": "stdout",
     "output_type": "stream",
     "text": [
      "Formula de regresion lineal entrenada: Y = 0.046 X + 7.383\n"
     ]
    }
   ],
   "source": [
    "print(\"Formula de regresion lineal entrenada: Y = {:.3f} X + {:.3f}\".format(model_Train.coef_[0][0],model_Train.intercept_[0]))"
   ]
  },
  {
   "cell_type": "markdown",
   "metadata": {},
   "source": [
    "## 4.-  Predicción \n",
    "\n",
    "- Se calcula la predicción $\\hat{Y}_i$ (.predict)\n",
    "- Diagrama de dispersión "
   ]
  },
  {
   "cell_type": "code",
   "execution_count": 100,
   "metadata": {},
   "outputs": [],
   "source": [
    "### Prediccion de los datos\n",
    "y_predict = model_Train.predict(x_test.values.reshape(-1,1))"
   ]
  },
  {
   "cell_type": "code",
   "execution_count": 101,
   "metadata": {},
   "outputs": [],
   "source": [
    "X_2 = x_test\n",
    "Y_2 = y_predict"
   ]
  },
  {
   "cell_type": "code",
   "execution_count": 107,
   "metadata": {
    "scrolled": true
   },
   "outputs": [
    {
     "data": {
      "image/png": "[encoded data removed]",
      "text/plain": [
       "<Figure size 1152x576 with 1 Axes>"
      ]
     },
     "metadata": {
      "needs_background": "light"
     },
     "output_type": "display_data"
    }
   ],
   "source": [
    "##Impresion de Los Datos originales y Regresion lineal Obtenida\n",
    "plt.figure(figsize=(16,8))\n",
    "plt.scatter(X_2,Y_2,c='r', label=\"ML model\")\n",
    "plt.scatter(X,Y,c='b', label= \"Original Data\")\n",
    "plt.xlabel('Inversion  $$$  TV')\n",
    "plt.ylabel('Sales')\n",
    "plt.legend()\n",
    "plt.title(\"Inversion TV vs Sales\")\n",
    "plt.show()"
   ]
  },
  {
   "cell_type": "code",
   "execution_count": 4,
   "metadata": {},
   "outputs": [],
   "source": [
    "# Make a prediction"
   ]
  },
  {
   "cell_type": "markdown",
   "metadata": {},
   "source": [
    "## 5.- Se calcula el <a href=https://acolita.com/que-es-el-error-cuadratico-medio-rmse/>Error Cuadrático Medio y la presición del modelo</a>.\n",
    "\n",
    "El Root Mean Square Error (RMSE) es la desviación estándar de los residuos (errores de predicción). Los residuos son una medida de cuán lejos de la línea de regresión están los puntos de datos; RMSE es una medida de cuán extendidos están estos residuos. En otras palabras, presenta cuán concentrados están los datos alrededor de la línea de mejor ajuste.\n",
    "\n",
    "- Entre el Real y la predicción \n",
    "- modelo.score()"
   ]
  },
  {
   "cell_type": "code",
   "execution_count": 108,
   "metadata": {},
   "outputs": [
    {
     "name": "stdout",
     "output_type": "stream",
     "text": [
      "r2_score  0.6826692541470516\n",
      "MAE 2.2681922144795585\n",
      "MSE  8.54105222385586\n"
     ]
    }
   ],
   "source": [
    "score = r2_score(y_test, y_predict)\n",
    "mae = mean_absolute_error(y_test,y_predict)\n",
    "mse = mean_squared_error(y_test,y_predict)\n",
    "\n",
    "print('r2_score ',score)\n",
    "print('MAE', mae)\n",
    "print('MSE ',mse)"
   ]
  },
  {
   "cell_type": "markdown",
   "metadata": {},
   "source": [
    "## 6.- Resumen\n",
    "- a) Estudiar y preparar los datos\n",
    "- b) Seleccionar el modelo\n",
    "- c) Entrenar con los datos de entrenamiento (es decir, el algoritmo de aprendizaje buscó los valores de los parámetros del modelo que minimizan una función de costo).\n",
    "- d) Aplicar el modelo para hacer predicciones sobre nuevos casos ($inferencia$)"
   ]
  },
  {
   "cell_type": "code",
   "execution_count": null,
   "metadata": {},
   "outputs": [],
   "source": []
  }
 ],
 "metadata": {
  "kernelspec": {
   "display_name": "Python 3",
   "language": "python",
   "name": "python3"
  },
  "language_info": {
   "codemirror_mode": {
    "name": "ipython",
    "version": 3
   },
   "file_extension": ".py",
   "mimetype": "text/x-python",
   "name": "python",
   "nbconvert_exporter": "python",
   "pygments_lexer": "ipython3",
   "version": "3.8.5"
  }
 },
 "nbformat": 4,
 "nbformat_minor": 4
}
